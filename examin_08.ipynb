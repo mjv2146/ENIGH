{
 "cells": [
  {
   "cell_type": "code",
   "execution_count": 3,
   "metadata": {},
   "outputs": [],
   "source": [
    "import pandas as pd\n",
    "import numpy as np\n",
    "import matplotlib.pyplot as plt\n",
    "import os\n",
    "from simpledbf import Dbf5\n",
    "import json\n",
    "import sys; sys.path.append('/home/mitch/util/python')\n",
    "\n",
    "dir = '/home/mitch/Dropbox/data/mexico_enigh/raw/2008/'\n",
    "os.chdir(dir)"
   ]
  },
  {
   "cell_type": "code",
   "execution_count": 4,
   "metadata": {},
   "outputs": [],
   "source": [
    "df = Dbf5('tra_concentrado_2008_concil_2010_dbf.dbf').to_dataframe()"
   ]
  },
  {
   "cell_type": "code",
   "execution_count": 5,
   "metadata": {},
   "outputs": [
    {
     "data": {
      "text/plain": [
       "Index(['FOLIOVIV', 'FOLIOHOG', 'FACTOR', 'ESTRATO', 'UBICA_GEO', 'CONAPO',\n",
       "       'TENENCIA', 'CLASE_HOG', 'SEXO', 'EDAD',\n",
       "       ...\n",
       "       'SERVICIO', 'DEPOSITO', 'TERCEROS', 'PAGO_TAR', 'DEUDAS', 'BALANCE',\n",
       "       'OTRA_ERO', 'SMG', 'EST_DIS', 'UPM'],\n",
       "      dtype='object', length=135)"
      ]
     },
     "execution_count": 5,
     "metadata": {},
     "output_type": "execute_result"
    }
   ],
   "source": [
    "df.columns"
   ]
  },
  {
   "cell_type": "code",
   "execution_count": null,
   "metadata": {},
   "outputs": [],
   "source": []
  }
 ],
 "metadata": {
  "kernelspec": {
   "display_name": "Python 3",
   "language": "python",
   "name": "python3"
  },
  "language_info": {
   "codemirror_mode": {
    "name": "ipython",
    "version": 3
   },
   "file_extension": ".py",
   "mimetype": "text/x-python",
   "name": "python",
   "nbconvert_exporter": "python",
   "pygments_lexer": "ipython3",
   "version": "3.10.6"
  },
  "orig_nbformat": 4
 },
 "nbformat": 4,
 "nbformat_minor": 2
}
