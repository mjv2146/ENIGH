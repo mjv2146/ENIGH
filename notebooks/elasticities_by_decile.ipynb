{
 "cells": [
  {
   "cell_type": "code",
   "execution_count": 38,
   "metadata": {
    "ExecuteTime": {
     "end_time": "2023-06-26T21:51:49.519128481Z",
     "start_time": "2023-06-26T21:51:49.040597822Z"
    }
   },
   "outputs": [],
   "source": [
    "import pandas as pd\n",
    "import numpy as np\n",
    "import matplotlib.pyplot as plt\n",
    "import numpy as np\n",
    "\n",
    "import sys; sys.path.append('/home/mitch/school/data/mexico_enigh/src/')\n",
    "sys.path.append('/home/mitch/util/python/')\n",
    "import utils\n",
    "import json_utils\n",
    "\n",
    "import os; import json\n",
    "\n",
    "dir = '/home/mitch/school/data/mexico_enigh/'\n",
    "data_dir = '/home/mitch/Dropbox/data/mexico_enigh/raw/1994/'\n",
    "out_dir = '/home/mitch/Dropbox/data/mexico_enigh/interim/1994/'\n",
    "decile_dir = '/home/mitch/Dropbox/data/mexico_enigh/bydecile/'"
   ]
  },
  {
   "cell_type": "code",
   "execution_count": 39,
   "metadata": {
    "ExecuteTime": {
     "end_time": "2023-06-26T21:51:53.738107218Z",
     "start_time": "2023-06-26T21:51:53.720075812Z"
    }
   },
   "outputs": [],
   "source": [
    "os.chdir(decile_dir)"
   ]
  },
  {
   "cell_type": "code",
   "execution_count": 40,
   "metadata": {
    "ExecuteTime": {
     "end_time": "2023-06-26T21:51:58.917162483Z",
     "start_time": "2023-06-26T21:51:58.901134404Z"
    }
   },
   "outputs": [],
   "source": [
    "os.chdir(decile_dir + '1994/')\n",
    "df94 = pd.read_csv('1994.csv')\n",
    "\n",
    "os.chdir(decile_dir + '1996/')\n",
    "df96 = pd.read_csv('1996.csv')"
   ]
  },
  {
   "cell_type": "code",
   "execution_count": 41,
   "metadata": {
    "ExecuteTime": {
     "end_time": "2023-06-26T21:52:00.364465404Z",
     "start_time": "2023-06-26T21:52:00.339464186Z"
    }
   },
   "outputs": [
    {
     "data": {
      "text/html": [
       "<div>\n",
       "<style scoped>\n",
       "    .dataframe tbody tr th:only-of-type {\n",
       "        vertical-align: middle;\n",
       "    }\n",
       "\n",
       "    .dataframe tbody tr th {\n",
       "        vertical-align: top;\n",
       "    }\n",
       "\n",
       "    .dataframe thead th {\n",
       "        text-align: right;\n",
       "    }\n",
       "</style>\n",
       "<table border=\"1\" class=\"dataframe\">\n",
       "  <thead>\n",
       "    <tr style=\"text-align: right;\">\n",
       "      <th></th>\n",
       "      <th>decile</th>\n",
       "      <th>consumption</th>\n",
       "      <th>income</th>\n",
       "    </tr>\n",
       "  </thead>\n",
       "  <tbody>\n",
       "    <tr>\n",
       "      <th>0</th>\n",
       "      <td>1</td>\n",
       "      <td>-0.696487</td>\n",
       "      <td>-1.089326</td>\n",
       "    </tr>\n",
       "    <tr>\n",
       "      <th>1</th>\n",
       "      <td>2</td>\n",
       "      <td>-0.404779</td>\n",
       "      <td>-0.620800</td>\n",
       "    </tr>\n",
       "    <tr>\n",
       "      <th>2</th>\n",
       "      <td>3</td>\n",
       "      <td>-0.288844</td>\n",
       "      <td>-0.418883</td>\n",
       "    </tr>\n",
       "    <tr>\n",
       "      <th>3</th>\n",
       "      <td>4</td>\n",
       "      <td>-0.148813</td>\n",
       "      <td>-0.244599</td>\n",
       "    </tr>\n",
       "    <tr>\n",
       "      <th>4</th>\n",
       "      <td>5</td>\n",
       "      <td>-0.068955</td>\n",
       "      <td>-0.085218</td>\n",
       "    </tr>\n",
       "    <tr>\n",
       "      <th>5</th>\n",
       "      <td>6</td>\n",
       "      <td>0.077448</td>\n",
       "      <td>0.057281</td>\n",
       "    </tr>\n",
       "    <tr>\n",
       "      <th>6</th>\n",
       "      <td>7</td>\n",
       "      <td>0.124695</td>\n",
       "      <td>0.213298</td>\n",
       "    </tr>\n",
       "    <tr>\n",
       "      <th>7</th>\n",
       "      <td>8</td>\n",
       "      <td>0.284334</td>\n",
       "      <td>0.407502</td>\n",
       "    </tr>\n",
       "    <tr>\n",
       "      <th>8</th>\n",
       "      <td>9</td>\n",
       "      <td>0.412927</td>\n",
       "      <td>0.641821</td>\n",
       "    </tr>\n",
       "    <tr>\n",
       "      <th>9</th>\n",
       "      <td>10</td>\n",
       "      <td>0.714991</td>\n",
       "      <td>1.149296</td>\n",
       "    </tr>\n",
       "  </tbody>\n",
       "</table>\n",
       "</div>"
      ],
      "text/plain": [
       "   decile  consumption    income\n",
       "0       1    -0.696487 -1.089326\n",
       "1       2    -0.404779 -0.620800\n",
       "2       3    -0.288844 -0.418883\n",
       "3       4    -0.148813 -0.244599\n",
       "4       5    -0.068955 -0.085218\n",
       "5       6     0.077448  0.057281\n",
       "6       7     0.124695  0.213298\n",
       "7       8     0.284334  0.407502\n",
       "8       9     0.412927  0.641821\n",
       "9      10     0.714991  1.149296"
      ]
     },
     "execution_count": 41,
     "metadata": {},
     "output_type": "execute_result"
    }
   ],
   "source": [
    "df94"
   ]
  },
  {
   "cell_type": "code",
   "execution_count": 42,
   "metadata": {},
   "outputs": [
    {
     "data": {
      "text/html": [
       "<div>\n",
       "<style scoped>\n",
       "    .dataframe tbody tr th:only-of-type {\n",
       "        vertical-align: middle;\n",
       "    }\n",
       "\n",
       "    .dataframe tbody tr th {\n",
       "        vertical-align: top;\n",
       "    }\n",
       "\n",
       "    .dataframe thead th {\n",
       "        text-align: right;\n",
       "    }\n",
       "</style>\n",
       "<table border=\"1\" class=\"dataframe\">\n",
       "  <thead>\n",
       "    <tr style=\"text-align: right;\">\n",
       "      <th></th>\n",
       "      <th>decile</th>\n",
       "      <th>consumption</th>\n",
       "      <th>income</th>\n",
       "    </tr>\n",
       "  </thead>\n",
       "  <tbody>\n",
       "    <tr>\n",
       "      <th>0</th>\n",
       "      <td>1</td>\n",
       "      <td>-0.731096</td>\n",
       "      <td>-1.095109</td>\n",
       "    </tr>\n",
       "    <tr>\n",
       "      <th>1</th>\n",
       "      <td>2</td>\n",
       "      <td>-0.418851</td>\n",
       "      <td>-0.627255</td>\n",
       "    </tr>\n",
       "    <tr>\n",
       "      <th>2</th>\n",
       "      <td>3</td>\n",
       "      <td>-0.243760</td>\n",
       "      <td>-0.408748</td>\n",
       "    </tr>\n",
       "    <tr>\n",
       "      <th>3</th>\n",
       "      <td>4</td>\n",
       "      <td>-0.133304</td>\n",
       "      <td>-0.235518</td>\n",
       "    </tr>\n",
       "    <tr>\n",
       "      <th>4</th>\n",
       "      <td>5</td>\n",
       "      <td>-0.046142</td>\n",
       "      <td>-0.083546</td>\n",
       "    </tr>\n",
       "    <tr>\n",
       "      <th>5</th>\n",
       "      <td>6</td>\n",
       "      <td>0.045561</td>\n",
       "      <td>0.066685</td>\n",
       "    </tr>\n",
       "    <tr>\n",
       "      <th>6</th>\n",
       "      <td>7</td>\n",
       "      <td>0.162975</td>\n",
       "      <td>0.216499</td>\n",
       "    </tr>\n",
       "    <tr>\n",
       "      <th>7</th>\n",
       "      <td>8</td>\n",
       "      <td>0.256029</td>\n",
       "      <td>0.395098</td>\n",
       "    </tr>\n",
       "    <tr>\n",
       "      <th>8</th>\n",
       "      <td>9</td>\n",
       "      <td>0.403052</td>\n",
       "      <td>0.624708</td>\n",
       "    </tr>\n",
       "    <tr>\n",
       "      <th>9</th>\n",
       "      <td>10</td>\n",
       "      <td>0.703827</td>\n",
       "      <td>1.144502</td>\n",
       "    </tr>\n",
       "  </tbody>\n",
       "</table>\n",
       "</div>"
      ],
      "text/plain": [
       "   decile  consumption    income\n",
       "0       1    -0.731096 -1.095109\n",
       "1       2    -0.418851 -0.627255\n",
       "2       3    -0.243760 -0.408748\n",
       "3       4    -0.133304 -0.235518\n",
       "4       5    -0.046142 -0.083546\n",
       "5       6     0.045561  0.066685\n",
       "6       7     0.162975  0.216499\n",
       "7       8     0.256029  0.395098\n",
       "8       9     0.403052  0.624708\n",
       "9      10     0.703827  1.144502"
      ]
     },
     "execution_count": 42,
     "metadata": {},
     "output_type": "execute_result"
    }
   ],
   "source": [
    "df96"
   ]
  },
  {
   "cell_type": "code",
   "execution_count": 43,
   "metadata": {
    "ExecuteTime": {
     "end_time": "2023-06-26T21:52:04.997559502Z",
     "start_time": "2023-06-26T21:52:04.991404207Z"
    }
   },
   "outputs": [],
   "source": [
    "pc_consumption = (df96.consumption - df94.consumption) \n",
    "pc_income = (df96.income - df94.income) "
   ]
  },
  {
   "cell_type": "code",
   "execution_count": 44,
   "metadata": {
    "ExecuteTime": {
     "end_time": "2023-06-26T21:52:30.238710042Z",
     "start_time": "2023-06-26T21:52:30.100157206Z"
    }
   },
   "outputs": [
    {
     "data": {
      "image/png": "[encoded data removed]",
      "text/plain": [
       "<Figure size 432x288 with 1 Axes>"
      ]
     },
     "metadata": {
      "needs_background": "light"
     },
     "output_type": "display_data"
    }
   ],
   "source": [
    "plt.clf()\n",
    "plt.plot(pc_consumption / pc_income)\n",
    "plt.show()"
   ]
  },
  {
   "cell_type": "code",
   "execution_count": 45,
   "metadata": {
    "ExecuteTime": {
     "end_time": "2023-06-26T21:52:16.976789048Z",
     "start_time": "2023-06-26T21:52:16.776068660Z"
    }
   },
   "outputs": [
    {
     "data": {
      "text/plain": [
       "0     5.985575\n",
       "1     2.180029\n",
       "2     4.448228\n",
       "3     1.707596\n",
       "4    13.647582\n",
       "5    -3.390887\n",
       "6    11.957872\n",
       "7     2.281884\n",
       "8     0.577040\n",
       "9     2.328981\n",
       "dtype: float64"
      ]
     },
     "execution_count": 45,
     "metadata": {},
     "output_type": "execute_result"
    }
   ],
   "source": [
    "pc_consumption / pc_income"
   ]
  },
  {
   "cell_type": "code",
   "execution_count": 48,
   "metadata": {},
   "outputs": [
    {
     "data": {
      "text/plain": [
       "0   -0.005782\n",
       "1   -0.006455\n",
       "2    0.010135\n",
       "3    0.009082\n",
       "4    0.001672\n",
       "5    0.009404\n",
       "6    0.003201\n",
       "7   -0.012404\n",
       "8   -0.017113\n",
       "9   -0.004794\n",
       "Name: income, dtype: float64"
      ]
     },
     "execution_count": 48,
     "metadata": {},
     "output_type": "execute_result"
    }
   ],
   "source": [
    "pc_income"
   ]
  },
  {
   "cell_type": "code",
   "execution_count": 49,
   "metadata": {},
   "outputs": [
    {
     "data": {
      "text/plain": [
       "0   -0.034609\n",
       "1   -0.014072\n",
       "2    0.045084\n",
       "3    0.015508\n",
       "4    0.022813\n",
       "5   -0.031888\n",
       "6    0.038280\n",
       "7   -0.028304\n",
       "8   -0.009875\n",
       "9   -0.011164\n",
       "Name: consumption, dtype: float64"
      ]
     },
     "execution_count": 49,
     "metadata": {},
     "output_type": "execute_result"
    }
   ],
   "source": [
    "pc_consumption"
   ]
  },
  {
   "cell_type": "code",
   "execution_count": null,
   "metadata": {},
   "outputs": [],
   "source": []
  }
 ],
 "metadata": {
  "kernelspec": {
   "display_name": "main",
   "language": "python",
   "name": "python3"
  },
  "language_info": {
   "codemirror_mode": {
    "name": "ipython",
    "version": 3
   },
   "file_extension": ".py",
   "mimetype": "text/x-python",
   "name": "python",
   "nbconvert_exporter": "python",
   "pygments_lexer": "ipython3",
   "version": "3.9.5"
  },
  "orig_nbformat": 4
 },
 "nbformat": 4,
 "nbformat_minor": 2
}
